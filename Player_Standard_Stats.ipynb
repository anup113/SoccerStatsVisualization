{
 "cells": [
  {
   "cell_type": "code",
   "execution_count": 19,
   "metadata": {},
   "outputs": [],
   "source": [
    "import requests\n",
    "from bs4 import BeautifulSoup\n",
    "import pandas as pd\n",
    "import re\n",
    "import sys, getopt\n",
    "import csv\n",
    "import numpy as np\n",
    "import matplotlib.pyplot as plt"
   ]
  },
  {
   "cell_type": "raw",
   "metadata": {},
   "source": [
    "che1920.columns\n",
    "Description of Columns names\n",
    "PLAYING TIME\n",
    "games -> # of matches palayed\n",
    "games_starts -> # of times in starting lineup\n",
    "minutes -> Minutes played\n",
    "\n",
    "PERFORMANCE\n",
    "goals -> Goals scored\n",
    "assists -> Assists made\n",
    "pens_made -> Scored penalty\n",
    "pens_att -> Penalty kicks taken\n",
    "\n",
    "PER 90 MINUTES\n",
    "goals_per90 -> Goals scored per 90 Minutes\n",
    "assists_per90 -> Assists meade per 90 Minutes\n",
    "goals_assists_per90 -> Goals + Assists per 90 Minutes\n",
    "goals_pens_per90 -> Goals - penalties per 90 Minutes\n",
    "goals_assists_pens_per90 -> Goals + Assists - Penalties per 90 Minutes\n",
    "\n",
    "EXPECTED\n",
    "xg -> Expected Goals\n",
    "npxg -> Non-penalty expcted goals\n",
    "xa -> Expected Assits\n",
    "\n",
    "PER 90 MINUTES\n",
    "xg_per90 -> Expected Goals per 90 Minutes\n",
    "xa_per90 -> Expected Assits per 90 Minutes\n",
    "xg_xa_per90 -> Expecte Goals + Assists per 90 Minutes\n",
    "npxg_per90 -> Non-penalty expected goals\n",
    "npxg_xa_per90 -> Non-penalty expected goals + assists"
   ]
  },
  {
   "cell_type": "code",
   "execution_count": 37,
   "metadata": {},
   "outputs": [],
   "source": [
    "# get the data-stat features used in the table as a list\n",
    "def get_features(rows_squad):\n",
    "    player_feature = []\n",
    "    for row in rows_squad:\n",
    "        tds = row.find_all('td')\n",
    "        for i in tds:\n",
    "            a = str(i).split(' ')\n",
    "            for j in a:\n",
    "                if \"data-stat\" in j:\n",
    "                    player_feature.append(j.split('\"')[1])\n",
    "        break\n",
    "    return player_feature\n",
    "\n",
    "def rmcomma(s):\n",
    "        return s.replace(\",\", \"\")\n",
    "\n",
    "def first_name(name):\n",
    "    return name.split(' ')[0]\n",
    "\n",
    "def second_name(i):\n",
    "    return i.split(\" \")[-1]"
   ]
  },
  {
   "cell_type": "code",
   "execution_count": 35,
   "metadata": {},
   "outputs": [],
   "source": [
    "# use this function while scraping the players of the single team \n",
    "def get_full_data(url, table_number):\n",
    "    \n",
    "    \"\"\"\n",
    "    input parameters \n",
    "    \n",
    "    url - url of the page\n",
    "    table_number - appropriate table number (zero indexed)\n",
    "    \n",
    "    Note: table number may change as per the pages double check\n",
    "    \n",
    "    \"\"\"\n",
    "\n",
    "    # load the page\n",
    "    res = requests.get(url)\n",
    "    comm = re.compile(\"<!--|-->\")\n",
    "    soup = BeautifulSoup(comm.sub(\"\",res.text),'lxml')\n",
    "    \n",
    "    # get all the tables\n",
    "    all_tables = soup.findAll(\"tbody\")\n",
    "    \n",
    "    # get the desired table\n",
    "    player_table = all_tables[table_number]\n",
    "    rows_squad = player_table.find_all('tr')\n",
    "    \n",
    "    # get all the features \n",
    "    player_features = get_features(rows_squad)\n",
    "\n",
    "\n",
    "    \n",
    "    # dictionary to lod the player fetures - columns of the tables\n",
    "    features_wanted_player = {}\n",
    "    for i in player_features:\n",
    "        features_wanted_player[i] = []\n",
    "        \n",
    "    #dictionary to load the result\n",
    "    pre_df_squad = {}\n",
    "\n",
    "    for row in rows_squad:\n",
    "        if(row.find('th',{\"scope\":\"row\"}) != None):\n",
    "            name = row.find('th', {\"data-stat\":\"player\"}).text.strip().encode().decode(\"utf-8\")\n",
    "            if \"player\" in pre_df_squad:\n",
    "                pre_df_squad['player'].append(name)\n",
    "            else:\n",
    "                pre_df_squad['player'] = [name]\n",
    "\n",
    "            for f in features_wanted_player:\n",
    "                cell = row.find(\"td\",{\"data-stat\": f})\n",
    "                if cell is not None:\n",
    "                    text = cell.text\n",
    "                if f in pre_df_squad:\n",
    "                    pre_df_squad[f].append(text)\n",
    "                else:\n",
    "                    pre_df_squad[f] = [text]\n",
    "    \n",
    "    # create a dataframe from the dictionary\n",
    "    rdf = pd.DataFrame(pre_df_squad)\n",
    "    \n",
    "    # drop the mathches column\n",
    "    rdf = rdf.drop('matches', 1)\n",
    "    \n",
    "    cols = rdf.columns\n",
    "    \n",
    "    # iterate over the columns and change numeric strings values to numneric values\n",
    "    for i in cols[3:]:\n",
    "        rdf[i] = rdf[i].apply(pd.to_numeric)\n",
    "        \n",
    "    # return the dataframe\n",
    "    return rdf"
   ]
  },
  {
   "cell_type": "code",
   "execution_count": 66,
   "metadata": {},
   "outputs": [],
   "source": [
    "# use this funciton while scraping the full player of leagues \n",
    "def full_player_data(url, table_number):\n",
    "    \n",
    "    \"\"\"\n",
    "    input parameters \n",
    "    \n",
    "    url - url of the page\n",
    "    table_number - appropriate table number (zero indexed)\n",
    "    \n",
    "    Note: table number may change as per the pages double check\n",
    "    \n",
    "    \"\"\"\n",
    "    \n",
    "    # load the page\n",
    "    res = requests.get(url)\n",
    "    comm = re.compile(\"<!--|-->\")\n",
    "    soup = BeautifulSoup(comm.sub(\"\",res.text),'lxml')\n",
    "    \n",
    "    # get all the tables of the page\n",
    "    all_tables = soup.findAll(\"tbody\")\n",
    "    \n",
    "    #choose the table providing the appropriate index\n",
    "    player_table = all_tables[table_number]\n",
    "    \n",
    "    #get all the rows of the table\n",
    "    rows_squad = player_table.find_all('tr')\n",
    "    player_features = get_features(rows_squad)\n",
    "    features_wanted_player = {}\n",
    "    \n",
    "    for i in player_features:\n",
    "        features_wanted_player[i] = []\n",
    "    pre_df_squad = {}\n",
    "    \n",
    "    for row in rows_squad:\n",
    "        if(row.find('th',{\"scope\":\"row\"}) != None):\n",
    "            name = row.find('th', {\"data-stat\":\"player\"})\n",
    "            if name is not None:\n",
    "                if \"player\" in pre_df_squad:\n",
    "                    pre_df_squad['player'].append(name)\n",
    "                else:\n",
    "                    pre_df_squad['player'] = [name]\n",
    "\n",
    "            for f in features_wanted_player:\n",
    "                cell = row.find(\"td\",{\"data-stat\": f})\n",
    "                if cell is not None:\n",
    "                    text = cell.text\n",
    "                if f in pre_df_squad:\n",
    "                    if text != \"None\":\n",
    "                        pre_df_squad[f].append(text)\n",
    "                else:\n",
    "                    pre_df_squad[f] = [text]\n",
    "                    \n",
    "    rdf = pd.DataFrame(pre_df_squad)\n",
    "    cols = rdf.columns\n",
    "    \n",
    "    if \"matches\" in cols:\n",
    "        rdf = rdf.drop(\"matches\", 1)\n",
    "        \n",
    "    cols = rdf.columns\n",
    "    \n",
    "    for i in cols[4:]:\n",
    "        rdf[i] = rdf[i].apply(pd.to_numeric)\n",
    "    return rdf"
   ]
  },
  {
   "cell_type": "code",
   "execution_count": 67,
   "metadata": {},
   "outputs": [
    {
     "name": "stdout",
     "output_type": "stream",
     "text": [
      "Index(['player', 'nationality', 'position', 'squad', 'age', 'birth_year',\n",
      "       'minutes_90s', 'sca', 'sca_per90', 'sca_passes_live', 'sca_passes_dead',\n",
      "       'sca_dribbles', 'sca_shots', 'sca_fouled', 'gca', 'gca_per90',\n",
      "       'gca_passes_live', 'gca_passes_dead', 'gca_dribbles', 'gca_shots',\n",
      "       'gca_fouled', 'gca_og_for', 'matches'],\n",
      "      dtype='object')\n"
     ]
    }
   ],
   "source": [
    "# url\n",
    "pl1920 = \"https://fbref.com/en/comps/9/3232/gca/2019-2020-Premier-League-Stats\"\n",
    "\n",
    "# function call \n",
    "g2 = full_player_data(pl1920, 1)"
   ]
  },
  {
   "cell_type": "code",
   "execution_count": 68,
   "metadata": {},
   "outputs": [],
   "source": [
    "# filter out the players who have player more than 500 minutes \n",
    "g2_minutes5 = g2.loc[g2.minutes_90s >= 5.55]"
   ]
  },
  {
   "cell_type": "code",
   "execution_count": 69,
   "metadata": {},
   "outputs": [],
   "source": [
    "# let's see the stats only for the GoalKeepers\n",
    "gk = g2_minutes5.loc[g2_minutes5.position == \"GK\"]"
   ]
  },
  {
   "cell_type": "code",
   "execution_count": 70,
   "metadata": {},
   "outputs": [
    {
     "name": "stdout",
     "output_type": "stream",
     "text": [
      "0.09518518518518518\n",
      "0.011851851851851851\n"
     ]
    }
   ],
   "source": [
    "print(gk[\"sca_per90\"].mean())\n",
    "print(gk[\"gca_per90\"].mean())"
   ]
  },
  {
   "cell_type": "code",
   "execution_count": 72,
   "metadata": {},
   "outputs": [],
   "source": [
    "#remove the GoalKeppers from the analysis\n",
    "g2_minutes5 = g2_minutes5.loc[g2.position != \"GK\"]"
   ]
  },
  {
   "cell_type": "code",
   "execution_count": 73,
   "metadata": {},
   "outputs": [
    {
     "name": "stdout",
     "output_type": "stream",
     "text": [
      "['Solarize_Light2', '_classic_test_patch', 'bmh', 'classic', 'dark_background', 'fast', 'fivethirtyeight', 'ggplot', 'grayscale', 'seaborn', 'seaborn-bright', 'seaborn-colorblind', 'seaborn-dark', 'seaborn-dark-palette', 'seaborn-darkgrid', 'seaborn-deep', 'seaborn-muted', 'seaborn-notebook', 'seaborn-paper', 'seaborn-pastel', 'seaborn-poster', 'seaborn-talk', 'seaborn-ticks', 'seaborn-white', 'seaborn-whitegrid', 'tableau-colorblind10']\n"
     ]
    }
   ],
   "source": [
    "print(plt.style.available)"
   ]
  },
  {
   "cell_type": "code",
   "execution_count": 74,
   "metadata": {},
   "outputs": [
    {
     "name": "stdout",
     "output_type": "stream",
     "text": [
      "1.8902997275204354\n",
      "0.21010899182561327\n"
     ]
    }
   ],
   "source": [
    "sca_mean = g2_minutes5[\"sca_per90\"].mean()\n",
    "gca_mean = g2_minutes5[\"gca_per90\"].mean()\n",
    "\n",
    "print(sca_mean)\n",
    "print(gca_mean)"
   ]
  },
  {
   "cell_type": "code",
   "execution_count": 80,
   "metadata": {},
   "outputs": [
    {
     "data": {
      "image/png": "[encoded data removed]",
      "text/plain": [
       "<Figure size 1152x864 with 1 Axes>"
      ]
     },
     "metadata": {
      "needs_background": "light"
     },
     "output_type": "display_data"
    }
   ],
   "source": [
    "fig, ax = plt.subplots(figsize=(16,12))\n",
    "ax.margins(0)\n",
    "\n",
    "\n",
    "Player = g2_minutes5[\"player\"].apply(second_name)\n",
    "\n",
    "\n",
    "ax.scatter(g2_minutes5[\"sca_per90\"], g2_minutes5[\"gca_per90\"], color = \"blue\", edgecolor='face')\n",
    "\n",
    "\n",
    "\n",
    "for x,y,z,zp in zip(g2_minutes5[\"sca_per90\"], g2_minutes5[\"gca_per90\"], Player, g2_minutes5[\"player\"]):\n",
    "    if y > 0.8 or x > 5:\n",
    "        label = zp\n",
    "    else:\n",
    "        label = \"\"\n",
    "    if y < 0.8 and x > 4:\n",
    "        label = z\n",
    "        if label == \"Silva\":\n",
    "            label = \"B.Silva        \"\n",
    "        if label == \"Pogba\":\n",
    "            label = \"       Pogba\"\n",
    "    if x > 3.4 and y > 0.55:\n",
    "        label = z\n",
    "        if label == \"Heung-min\":\n",
    "            label = \"Son\"\n",
    "        if label == \"Silva\":\n",
    "            label = \"D.Silva\"\n",
    "        if label == \"Alexander-Arnold\":\n",
    "            label = \"         A.Arnold\"\n",
    "        if label == \"Pulisic\":\n",
    "            label = \"Pulisic        \"\n",
    "    if y>0.55 and x<2:\n",
    "        label = z\n",
    "    if y<0.1 and x>3:\n",
    "        label = z\n",
    "    if z==\"Martial\":\n",
    "        label = z\n",
    "    if z==\"Mané\":\n",
    "        label = z\n",
    "    if z==\"Salah\":\n",
    "        label = z\n",
    "    if z==\"Rashford\":\n",
    "        label = \"Rashford  \"\n",
    "    if x > 3.4:\n",
    "        lable = z\n",
    "    if y>0.22 and x<1.1:\n",
    "        label = z\n",
    "    # this method is called for each point\n",
    "    ax.annotate(label, # this is the text\n",
    "                 (x,y), # this is the point to label\n",
    "                 textcoords=\"offset points\", # how to position the text\n",
    "                 xytext=(0,5), # distance from text to points (x,y)\n",
    "                 ha='center')\n",
    "    \n",
    "\n",
    "# ax.scatter([sca_mean], [gca_mean], c='black', s=60)\n",
    "# ax.annotate('Average player', xy=(sca_mean, gca_mean), xytext=(sca_mean-1, gca_mean+0.3),\n",
    "#             arrowprops=dict(arrowstyle='->'))\n",
    "\n",
    "ax.annotate(\"mean value\", xy=(6, 0.22), xytext=(6.5, 0.225), arrowprops=dict(arrowstyle='->'))\n",
    "\n",
    "ax.plot([0, 7.5], [gca_mean, gca_mean], 'r--', label='Random guess')\n",
    "ax.plot([sca_mean, sca_mean], [-0.02, 1.5], 'r--', label='Random guess')\n",
    "\n",
    "ax.set(xlabel = \"Shot creating actions per90\", ylabel=\"Goal creating actions per90\", title=\"Premier League(2019-20) players shot creating actions vs goal creating action (per 90)\")\n",
    "ax.tick_params(axis='both', which='major', labelsize=12)\n",
    "fig.savefig('goal_creation_vs_shot_creation_PL(12-20).png')"
   ]
  }
 ],
 "metadata": {
  "kernelspec": {
   "display_name": "Python 3",
   "language": "python",
   "name": "python3"
  },
  "language_info": {
   "codemirror_mode": {
    "name": "ipython",
    "version": 3
   },
   "file_extension": ".py",
   "mimetype": "text/x-python",
   "name": "python",
   "nbconvert_exporter": "python",
   "pygments_lexer": "ipython3",
   "version": "3.8.3"
  }
 },
 "nbformat": 4,
 "nbformat_minor": 4
}
